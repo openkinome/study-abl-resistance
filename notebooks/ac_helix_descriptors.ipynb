{
 "cells": [
  {
   "cell_type": "markdown",
   "metadata": {},
   "source": [
    "# aC helix descriptors"
   ]
  },
  {
   "cell_type": "markdown",
   "metadata": {},
   "source": [
    "This notebook aims to identify descriptors of aC helix conformations that can be used to bias SAMS simulations. The [KLIFS database](https://klifs.net/index.php) will be queried for available kinase structures and analyzed for 5 distances connecting C alpha atoms of the aC helix and the hinge region. These distances were picked, since the hinge region is enclosed in the ATP binding pocket and may be stable enough to pull the aC helix closer to the ATP pocket without altering the overall structure of the kinase (aC helix out -> in). Finally, mean and standard deviations of these distances are calculated that are the basis for adding bias to SAMS simulations."
   ]
  },
  {
   "cell_type": "code",
   "execution_count": 1,
   "metadata": {},
   "outputs": [
    {
     "name": "stderr",
     "output_type": "stream",
     "text": [
      "INFO:opencadd.databases.klifs.api:If you want to see an non-truncated version of the DataFrames in this module, use `pd.set_option('display.max_columns', 50)` in your notebook.\n"
     ]
    }
   ],
   "source": [
    "import pathlib\n",
    "\n",
    "from appdirs import user_cache_dir\n",
    "import MDAnalysis as mda\n",
    "from opencadd.databases.klifs import setup_remote\n",
    "from openeye import oechem\n",
    "import pandas as pd\n",
    "from tqdm import tqdm"
   ]
  },
  {
   "cell_type": "code",
   "execution_count": 2,
   "metadata": {},
   "outputs": [
    {
     "name": "stderr",
     "output_type": "stream",
     "text": [
      "INFO:opencadd.databases.klifs.api:Set up remote session...\n",
      "INFO:opencadd.databases.klifs.api:Remote session is ready!\n"
     ]
    }
   ],
   "source": [
    "# Set up remote session\n",
    "remote = setup_remote()"
   ]
  },
  {
   "cell_type": "code",
   "execution_count": 3,
   "metadata": {},
   "outputs": [
    {
     "name": "stdout",
     "output_type": "stream",
     "text": [
      "Number of PDB entries: 5420\n",
      "Number of KLIFS entries: 11674\n"
     ]
    }
   ],
   "source": [
    "# retrieve kinase structures\n",
    "kinase_df = remote.structures.all_structures()\n",
    "# remove NMR structures\n",
    "kinase_df = kinase_df[kinase_df[\"structure.resolution\"].notna()]\n",
    "print(\"Number of PDB entries:\", len(set(kinase_df[\"structure.pdb_id\"])))\n",
    "print(\"Number of KLIFS entries:\", len(kinase_df))"
   ]
  },
  {
   "cell_type": "code",
   "execution_count": 4,
   "metadata": {},
   "outputs": [],
   "source": [
    "def klifs_to_pdb_resids(klifs_resids, klifs_structure_id):\n",
    "    \"\"\"\n",
    "    Convert klifs pocket resids into the corresponding pdb resids of the \n",
    "    specified klifs structure.\n",
    "    \n",
    "    Parameters\n",
    "    ----------\n",
    "    klifs_resids: list of int\n",
    "        KLIFS pocket residue ids.\n",
    "    klifs_structure_id: int\n",
    "        KLIFS structure ID of the structure to get the corresponding pdb resids for.\n",
    "        \n",
    "    Returns\n",
    "    -------\n",
    "    convert_dict: dict\n",
    "        The dictionary with klifs resids as keys and pdb resids as values.\n",
    "    \"\"\"    \n",
    "    pocket = remote.pockets.by_structure_klifs_id(klifs_structure_id)\n",
    "    pdb_resids = pocket[pocket[\"residue.klifs_id\"].isin(klifs_resids)][\"residue.id\"].to_list()\n",
    "    convert_dict = {klifs_resid: int(pdb_resid) for klifs_resid, pdb_resid in zip(sorted(klifs_resids), pdb_resids) if pdb_resid != \"_\"}\n",
    "    return convert_dict"
   ]
  },
  {
   "cell_type": "code",
   "execution_count": 5,
   "metadata": {},
   "outputs": [],
   "source": [
    "def distance(x, y):\n",
    "    \"\"\" This function returns the euclidean distance between two point in three dimensional space. \"\"\"\n",
    "    return ((x[0] - y[0]) ** 2 + (x[1] - y[1]) ** 2 + (x[2] - y[2]) ** 2) ** 0.5"
   ]
  },
  {
   "cell_type": "markdown",
   "metadata": {},
   "source": [
    "Residues of the aC helix (20, 22, 24, 26, 28) and the hinge region (45, 46, 47, 48, 49) are conserved among all protein kinases and hence, should be applicable for SAMS simulations of most protein kinases of interest ([KLIFS residues](https://klifs.net/faq.php))."
   ]
  },
  {
   "cell_type": "code",
   "execution_count": 6,
   "metadata": {},
   "outputs": [],
   "source": [
    "critical_residues = [17, 20, 22, 24, 26, 28, 45, 46, 47, 48, 49]\n",
    "critical_distances = [\"17_24\", \"20_49\", \"22_48\", \"24_47\", \"26_46\", \"28_45\"]\n",
    "conformations = [\"out\", \"out-like\", \"in\"]"
   ]
  },
  {
   "cell_type": "code",
   "execution_count": 7,
   "metadata": {},
   "outputs": [
    {
     "name": "stderr",
     "output_type": "stream",
     "text": [
      "  0%|          | 0/11321 [00:00<?, ?it/s]/home/david/miniconda3/envs/kinoml/lib/python3.7/site-packages/MDAnalysis/topology/guessers.py:80: UserWarning: Failed to guess the mass for the following atom types: MN\n",
      "  warnings.warn(\"Failed to guess the mass for the following atom types: {}\".format(atom_type))\n",
      "  4%|▍         | 473/11321 [01:52<38:06,  4.74it/s]  /home/david/miniconda3/envs/kinoml/lib/python3.7/site-packages/MDAnalysis/topology/guessers.py:80: UserWarning: Failed to guess the mass for the following atom types: AL\n",
      "  warnings.warn(\"Failed to guess the mass for the following atom types: {}\".format(atom_type))\n",
      "  5%|▍         | 525/11321 [02:03<38:56,  4.62it/s]/home/david/miniconda3/envs/kinoml/lib/python3.7/site-packages/MDAnalysis/topology/guessers.py:80: UserWarning: Failed to guess the mass for the following atom types: RU\n",
      "  warnings.warn(\"Failed to guess the mass for the following atom types: {}\".format(atom_type))\n",
      "  5%|▌         | 581/11321 [02:20<39:54,  4.49it/s]  /home/david/miniconda3/envs/kinoml/lib/python3.7/site-packages/MDAnalysis/topology/guessers.py:80: UserWarning: Failed to guess the mass for the following atom types: SE\n",
      "  warnings.warn(\"Failed to guess the mass for the following atom types: {}\".format(atom_type))\n",
      "  9%|▊         | 975/11321 [04:13<41:04,  4.20it/s]  /home/david/miniconda3/envs/kinoml/lib/python3.7/site-packages/MDAnalysis/topology/guessers.py:80: UserWarning: Failed to guess the mass for the following atom types: LP\n",
      "  warnings.warn(\"Failed to guess the mass for the following atom types: {}\".format(atom_type))\n",
      "/home/david/miniconda3/envs/kinoml/lib/python3.7/site-packages/MDAnalysis/topology/PDBParser.py:327: UserWarning: Invalid elements found in the PDB file, elements attributes will not be populated.\n",
      "  warnings.warn(\"Invalid elements found in the PDB file, \"\n",
      " 12%|█▏        | 1313/11321 [05:48<1:09:56,  2.38it/s]/home/david/miniconda3/envs/kinoml/lib/python3.7/site-packages/MDAnalysis/topology/guessers.py:80: UserWarning: Failed to guess the mass for the following atom types: HG\n",
      "  warnings.warn(\"Failed to guess the mass for the following atom types: {}\".format(atom_type))\n",
      " 12%|█▏        | 1402/11321 [06:15<43:13,  3.82it/s]  /home/david/miniconda3/envs/kinoml/lib/python3.7/site-packages/MDAnalysis/topology/guessers.py:80: UserWarning: Failed to guess the mass for the following atom types: OS\n",
      "  warnings.warn(\"Failed to guess the mass for the following atom types: {}\".format(atom_type))\n",
      " 36%|███▌      | 4097/11321 [19:51<29:01,  4.15it/s]  /home/david/miniconda3/envs/kinoml/lib/python3.7/site-packages/MDAnalysis/topology/guessers.py:80: UserWarning: Failed to guess the mass for the following atom types: CO\n",
      "  warnings.warn(\"Failed to guess the mass for the following atom types: {}\".format(atom_type))\n",
      " 39%|███▉      | 4415/11321 [23:48<1:13:35,  1.56it/s]/home/david/miniconda3/envs/kinoml/lib/python3.7/site-packages/MDAnalysis/topology/guessers.py:80: UserWarning: Failed to guess the mass for the following atom types: NI\n",
      "  warnings.warn(\"Failed to guess the mass for the following atom types: {}\".format(atom_type))\n",
      " 45%|████▍     | 5084/11321 [30:40<43:08,  2.41it/s]  /home/david/miniconda3/envs/kinoml/lib/python3.7/site-packages/MDAnalysis/topology/guessers.py:80: UserWarning: Failed to guess the mass for the following atom types: AS\n",
      "  warnings.warn(\"Failed to guess the mass for the following atom types: {}\".format(atom_type))\n",
      " 52%|█████▏    | 5904/11321 [38:12<42:23,  2.13it/s]  /home/david/miniconda3/envs/kinoml/lib/python3.7/site-packages/MDAnalysis/topology/guessers.py:80: UserWarning: Failed to guess the mass for the following atom types: AU\n",
      "  warnings.warn(\"Failed to guess the mass for the following atom types: {}\".format(atom_type))\n",
      " 55%|█████▌    | 6272/11321 [41:12<47:38,  1.77it/s]/home/david/miniconda3/envs/kinoml/lib/python3.7/site-packages/MDAnalysis/topology/guessers.py:80: UserWarning: Failed to guess the mass for the following atom types: CD\n",
      "  warnings.warn(\"Failed to guess the mass for the following atom types: {}\".format(atom_type))\n",
      " 96%|█████████▌| 10856/11321 [1:25:36<04:22,  1.77it/s] /home/david/miniconda3/envs/kinoml/lib/python3.7/site-packages/MDAnalysis/topology/guessers.py:80: UserWarning: Failed to guess the mass for the following atom types: SR\n",
      "  warnings.warn(\"Failed to guess the mass for the following atom types: {}\".format(atom_type))\n",
      " 96%|█████████▌| 10887/11321 [1:26:00<05:18,  1.36it/s]/home/david/miniconda3/envs/kinoml/lib/python3.7/site-packages/MDAnalysis/topology/guessers.py:80: UserWarning: Failed to guess the mass for the following atom types: BA\n",
      "  warnings.warn(\"Failed to guess the mass for the following atom types: {}\".format(atom_type))\n",
      "100%|██████████| 11321/11321 [1:31:14<00:00,  2.07it/s]\n"
     ]
    }
   ],
   "source": [
    "directory = pathlib.Path(user_cache_dir()) / \"klifs_structures\"\n",
    "directory.mkdir(parents=True, exist_ok=True)\n",
    "invalid_structures = {\"missing_atoms\": [], \"non_unique_atoms\": []}\n",
    "distances = []\n",
    "complete_df = kinase_df[(kinase_df[\"structure.dfg\"] != \"na\") & \n",
    "                        (kinase_df[\"structure.ac_helix\"] != \"na\")]\n",
    "complete_df = complete_df[~complete_df[\"structure.pdb_id\"].isin([\"6pjx\"])] # remove erroneous structures\n",
    "for index, structure in tqdm(complete_df.iterrows(), total=complete_df.shape[0]):\n",
    "    path = directory / f\"{structure['structure.klifs_id']}.pdb\"\n",
    "    if not path.is_file():\n",
    "        pdb_text = remote.coordinates.to_text(structure[\"structure.klifs_id\"], \n",
    "                                              extension=\"pdb\")\n",
    "        with open(path, \"w\") as wf:\n",
    "            wf.write(pdb_text)\n",
    "    pdb_structure = mda.Universe(path, guess_masses=False)\n",
    "    klifs_to_pdb_dict = klifs_to_pdb_resids(critical_residues, \n",
    "                                            structure[\"structure.klifs_id\"])\n",
    "    distances_tmp = []\n",
    "    if len(klifs_to_pdb_dict) == len(critical_residues):\n",
    "        for critical_distance in critical_distances:\n",
    "            residue_pair = critical_distance.split(\"_\")\n",
    "            if \"17\" in critical_distance:\n",
    "                coords1 = pdb_structure.select_atoms(\n",
    "                    f\"resid {klifs_to_pdb_dict[int(residue_pair[0])]} and name NZ\").positions\n",
    "                if len(coords1) == 0:\n",
    "                    invalid_structures[\"missing_atoms\"].append([structure['structure.klifs_id'], residue_pair[0]])\n",
    "                    break\n",
    "                elif len(coords1) == 1:\n",
    "                    coords1 = coords1[0]\n",
    "                else:\n",
    "                    invalid_structures[\"non_unique_atoms\"].append([structure['structure.klifs_id'], residue_pair[0]])\n",
    "                    break\n",
    "                coords2 = pdb_structure.select_atoms(\n",
    "                    f\"resid {klifs_to_pdb_dict[int(residue_pair[1])]} and (name OE1 or name OE2)\").positions\n",
    "                if len(coords2) < 2:\n",
    "                    invalid_structures[\"missing_atoms\"].append([structure['structure.klifs_id'], residue_pair[1]])\n",
    "                    break\n",
    "                elif len(coords2) == 2:\n",
    "                    coords2 = coords2\n",
    "                else:\n",
    "                    invalid_structures[\"non_unique_atoms\"].append([structure['structure.klifs_id'], residue_pair[1]])\n",
    "                    break\n",
    "                distances_tmp.append(min(distance(coords1, coords2[0]), distance(coords1, coords2[1])))\n",
    "            else:\n",
    "                coords1 = pdb_structure.select_atoms(\n",
    "                    f\"resid {klifs_to_pdb_dict[int(residue_pair[0])]} and name CA\").positions\n",
    "                if len(coords1) == 0:\n",
    "                    invalid_structures[\"missing_atoms\"].append([structure['structure.klifs_id'], residue_pair[0]])\n",
    "                    break\n",
    "                elif len(coords1) == 1:\n",
    "                    coords1 = coords1[0]\n",
    "                else:\n",
    "                    invalid_structures[\"non_unique_atoms\"].append([structure['structure.klifs_id'], residue_pair[0]])\n",
    "                    break\n",
    "                coords2 = pdb_structure.select_atoms(\n",
    "                    f\"resid {klifs_to_pdb_dict[int(residue_pair[1])]} and name CA\").positions\n",
    "                if len(coords2) == 0:\n",
    "                    invalid_structures[\"missing_atoms\"].append([structure['structure.klifs_id'], residue_pair[1]])\n",
    "                    break\n",
    "                elif len(coords2) == 1:\n",
    "                    coords2 = coords2[0]\n",
    "                else:\n",
    "                    invalid_structures[\"non_unique_atoms\"].append([structure['structure.klifs_id'], residue_pair[1]])\n",
    "                    break\n",
    "                distances_tmp.append(distance(coords1, coords2))\n",
    "        if len(distances_tmp) == len(critical_distances):\n",
    "            distances.append([structure['structure.klifs_id'], structure['structure.dfg'], structure['structure.ac_helix']] + distances_tmp)"
   ]
  },
  {
   "cell_type": "code",
   "execution_count": 33,
   "metadata": {},
   "outputs": [
    {
     "data": {
      "text/html": [
       "<div>\n",
       "<style scoped>\n",
       "    .dataframe tbody tr th:only-of-type {\n",
       "        vertical-align: middle;\n",
       "    }\n",
       "\n",
       "    .dataframe tbody tr th {\n",
       "        vertical-align: top;\n",
       "    }\n",
       "\n",
       "    .dataframe thead th {\n",
       "        text-align: right;\n",
       "    }\n",
       "</style>\n",
       "<table border=\"1\" class=\"dataframe\">\n",
       "  <thead>\n",
       "    <tr style=\"text-align: right;\">\n",
       "      <th></th>\n",
       "      <th>klifs_id</th>\n",
       "      <th>dfg</th>\n",
       "      <th>ac_helix</th>\n",
       "      <th>17_24</th>\n",
       "      <th>20_49</th>\n",
       "      <th>22_48</th>\n",
       "      <th>24_47</th>\n",
       "      <th>26_46</th>\n",
       "      <th>28_45</th>\n",
       "    </tr>\n",
       "  </thead>\n",
       "  <tbody>\n",
       "    <tr>\n",
       "      <th>0</th>\n",
       "      <td>10881</td>\n",
       "      <td>in</td>\n",
       "      <td>in</td>\n",
       "      <td>3.089630</td>\n",
       "      <td>25.272524</td>\n",
       "      <td>22.241090</td>\n",
       "      <td>16.629157</td>\n",
       "      <td>16.249722</td>\n",
       "      <td>9.155457</td>\n",
       "    </tr>\n",
       "    <tr>\n",
       "      <th>1</th>\n",
       "      <td>2548</td>\n",
       "      <td>in</td>\n",
       "      <td>in</td>\n",
       "      <td>2.769974</td>\n",
       "      <td>24.815292</td>\n",
       "      <td>22.079558</td>\n",
       "      <td>16.559030</td>\n",
       "      <td>16.306088</td>\n",
       "      <td>9.325119</td>\n",
       "    </tr>\n",
       "    <tr>\n",
       "      <th>2</th>\n",
       "      <td>10431</td>\n",
       "      <td>in</td>\n",
       "      <td>in</td>\n",
       "      <td>3.320335</td>\n",
       "      <td>24.887775</td>\n",
       "      <td>21.952821</td>\n",
       "      <td>16.470332</td>\n",
       "      <td>16.214365</td>\n",
       "      <td>9.411622</td>\n",
       "    </tr>\n",
       "    <tr>\n",
       "      <th>3</th>\n",
       "      <td>9868</td>\n",
       "      <td>in</td>\n",
       "      <td>in</td>\n",
       "      <td>2.724588</td>\n",
       "      <td>25.696716</td>\n",
       "      <td>22.275710</td>\n",
       "      <td>17.013616</td>\n",
       "      <td>16.332138</td>\n",
       "      <td>9.592875</td>\n",
       "    </tr>\n",
       "    <tr>\n",
       "      <th>4</th>\n",
       "      <td>10435</td>\n",
       "      <td>in</td>\n",
       "      <td>in</td>\n",
       "      <td>2.612160</td>\n",
       "      <td>25.146516</td>\n",
       "      <td>22.098123</td>\n",
       "      <td>16.559644</td>\n",
       "      <td>16.316663</td>\n",
       "      <td>9.299524</td>\n",
       "    </tr>\n",
       "  </tbody>\n",
       "</table>\n",
       "</div>"
      ],
      "text/plain": [
       "   klifs_id dfg ac_helix     17_24      20_49      22_48      24_47  \\\n",
       "0     10881  in       in  3.089630  25.272524  22.241090  16.629157   \n",
       "1      2548  in       in  2.769974  24.815292  22.079558  16.559030   \n",
       "2     10431  in       in  3.320335  24.887775  21.952821  16.470332   \n",
       "3      9868  in       in  2.724588  25.696716  22.275710  17.013616   \n",
       "4     10435  in       in  2.612160  25.146516  22.098123  16.559644   \n",
       "\n",
       "       26_46     28_45  \n",
       "0  16.249722  9.155457  \n",
       "1  16.306088  9.325119  \n",
       "2  16.214365  9.411622  \n",
       "3  16.332138  9.592875  \n",
       "4  16.316663  9.299524  "
      ]
     },
     "execution_count": 33,
     "metadata": {},
     "output_type": "execute_result"
    }
   ],
   "source": [
    "distances_df = pd.DataFrame(distances, columns=[\"klifs_id\", \"dfg\", \"ac_helix\"] + critical_distances)\n",
    "distances_df.head()"
   ]
  },
  {
   "cell_type": "code",
   "execution_count": 46,
   "metadata": {},
   "outputs": [
    {
     "data": {
      "text/html": [
       "<div>\n",
       "<style scoped>\n",
       "    .dataframe tbody tr th:only-of-type {\n",
       "        vertical-align: middle;\n",
       "    }\n",
       "\n",
       "    .dataframe tbody tr th {\n",
       "        vertical-align: top;\n",
       "    }\n",
       "\n",
       "    .dataframe thead th {\n",
       "        text-align: right;\n",
       "    }\n",
       "</style>\n",
       "<table border=\"1\" class=\"dataframe\">\n",
       "  <thead>\n",
       "    <tr style=\"text-align: right;\">\n",
       "      <th></th>\n",
       "      <th>in_mean</th>\n",
       "      <th>in_std</th>\n",
       "      <th>out-like_mean</th>\n",
       "      <th>out-like_std</th>\n",
       "      <th>out_mean</th>\n",
       "      <th>out_std</th>\n",
       "    </tr>\n",
       "  </thead>\n",
       "  <tbody>\n",
       "    <tr>\n",
       "      <th>17_24</th>\n",
       "      <td>3.267508</td>\n",
       "      <td>1.198827</td>\n",
       "      <td>4.193753</td>\n",
       "      <td>2.704338</td>\n",
       "      <td>10.235203</td>\n",
       "      <td>5.412526</td>\n",
       "    </tr>\n",
       "    <tr>\n",
       "      <th>20_49</th>\n",
       "      <td>26.208993</td>\n",
       "      <td>2.110693</td>\n",
       "      <td>26.470004</td>\n",
       "      <td>1.479586</td>\n",
       "      <td>29.368592</td>\n",
       "      <td>2.204420</td>\n",
       "    </tr>\n",
       "    <tr>\n",
       "      <th>22_48</th>\n",
       "      <td>22.554301</td>\n",
       "      <td>1.021432</td>\n",
       "      <td>22.863814</td>\n",
       "      <td>1.309829</td>\n",
       "      <td>23.645853</td>\n",
       "      <td>1.234202</td>\n",
       "    </tr>\n",
       "    <tr>\n",
       "      <th>24_47</th>\n",
       "      <td>17.348483</td>\n",
       "      <td>0.766446</td>\n",
       "      <td>17.850519</td>\n",
       "      <td>1.014201</td>\n",
       "      <td>20.126625</td>\n",
       "      <td>1.932349</td>\n",
       "    </tr>\n",
       "    <tr>\n",
       "      <th>26_46</th>\n",
       "      <td>16.521078</td>\n",
       "      <td>0.729604</td>\n",
       "      <td>16.618977</td>\n",
       "      <td>1.090077</td>\n",
       "      <td>16.409163</td>\n",
       "      <td>1.296425</td>\n",
       "    </tr>\n",
       "    <tr>\n",
       "      <th>28_45</th>\n",
       "      <td>9.818745</td>\n",
       "      <td>0.583821</td>\n",
       "      <td>9.783362</td>\n",
       "      <td>0.692177</td>\n",
       "      <td>10.719205</td>\n",
       "      <td>1.287872</td>\n",
       "    </tr>\n",
       "  </tbody>\n",
       "</table>\n",
       "</div>"
      ],
      "text/plain": [
       "         in_mean    in_std  out-like_mean  out-like_std   out_mean   out_std\n",
       "17_24   3.267508  1.198827       4.193753      2.704338  10.235203  5.412526\n",
       "20_49  26.208993  2.110693      26.470004      1.479586  29.368592  2.204420\n",
       "22_48  22.554301  1.021432      22.863814      1.309829  23.645853  1.234202\n",
       "24_47  17.348483  0.766446      17.850519      1.014201  20.126625  1.932349\n",
       "26_46  16.521078  0.729604      16.618977      1.090077  16.409163  1.296425\n",
       "28_45   9.818745  0.583821       9.783362      0.692177  10.719205  1.287872"
      ]
     },
     "execution_count": 46,
     "metadata": {},
     "output_type": "execute_result"
    }
   ],
   "source": [
    "ac_helix_statistics = []\n",
    "for ac_helix_conformation in [\"in\", \"out-like\", \"out\"]:\n",
    "    ac_helix_statistics.append(distances_df[distances_df[\"ac_helix\"] == ac_helix_conformation][critical_distances].mean())\n",
    "    ac_helix_statistics.append(distances_df[distances_df[\"ac_helix\"] == ac_helix_conformation][critical_distances].std())\n",
    "ac_helix_statistics = pd.DataFrame(ac_helix_statistics).T\n",
    "ac_helix_statistics.columns = [\"in_mean\", \"in_std\", \"out-like_mean\", \"out-like_std\", \"out_mean\", \"out_std\"]\n",
    "ac_helix_statistics"
   ]
  },
  {
   "cell_type": "code",
   "execution_count": 51,
   "metadata": {},
   "outputs": [
    {
     "data": {
      "text/plain": [
       "<AxesSubplot:ylabel='Frequency'>"
      ]
     },
     "execution_count": 51,
     "metadata": {},
     "output_type": "execute_result"
    },
    {
     "data": {
      "image/png": "[encoded data removed]",
      "text/plain": [
       "<Figure size 432x288 with 1 Axes>"
      ]
     },
     "metadata": {
      "needs_background": "light"
     },
     "output_type": "display_data"
    }
   ],
   "source": [
    "distances_df[distances_df[\"ac_helix\"] == \"in\"][\"17_24\"].plot.hist()"
   ]
  },
  {
   "cell_type": "code",
   "execution_count": 52,
   "metadata": {},
   "outputs": [
    {
     "data": {
      "text/plain": [
       "<AxesSubplot:xlabel='17_24', ylabel='24_47'>"
      ]
     },
     "execution_count": 52,
     "metadata": {},
     "output_type": "execute_result"
    },
    {
     "data": {
      "image/png": "[encoded data removed]",
      "text/plain": [
       "<Figure size 432x288 with 1 Axes>"
      ]
     },
     "metadata": {
      "needs_background": "light"
     },
     "output_type": "display_data"
    }
   ],
   "source": [
    "distances_df.plot.scatter(\"17_24\", \"24_47\")"
   ]
  },
  {
   "cell_type": "code",
   "execution_count": 60,
   "metadata": {},
   "outputs": [
    {
     "data": {
      "text/html": [
       "<div>\n",
       "<style scoped>\n",
       "    .dataframe tbody tr th:only-of-type {\n",
       "        vertical-align: middle;\n",
       "    }\n",
       "\n",
       "    .dataframe tbody tr th {\n",
       "        vertical-align: top;\n",
       "    }\n",
       "\n",
       "    .dataframe thead th {\n",
       "        text-align: right;\n",
       "    }\n",
       "</style>\n",
       "<table border=\"1\" class=\"dataframe\">\n",
       "  <thead>\n",
       "    <tr style=\"text-align: right;\">\n",
       "      <th></th>\n",
       "      <th>in_mean</th>\n",
       "      <th>in_std</th>\n",
       "      <th>out_mean</th>\n",
       "      <th>out_std</th>\n",
       "    </tr>\n",
       "  </thead>\n",
       "  <tbody>\n",
       "    <tr>\n",
       "      <th>17_24</th>\n",
       "      <td>2.740827</td>\n",
       "      <td>0.131068</td>\n",
       "      <td>14.146603</td>\n",
       "      <td>2.188693</td>\n",
       "    </tr>\n",
       "    <tr>\n",
       "      <th>20_49</th>\n",
       "      <td>26.400868</td>\n",
       "      <td>2.131793</td>\n",
       "      <td>30.650660</td>\n",
       "      <td>1.417065</td>\n",
       "    </tr>\n",
       "    <tr>\n",
       "      <th>22_48</th>\n",
       "      <td>22.677562</td>\n",
       "      <td>1.018469</td>\n",
       "      <td>23.935321</td>\n",
       "      <td>1.138413</td>\n",
       "    </tr>\n",
       "    <tr>\n",
       "      <th>24_47</th>\n",
       "      <td>17.391289</td>\n",
       "      <td>0.663375</td>\n",
       "      <td>21.340958</td>\n",
       "      <td>0.958528</td>\n",
       "    </tr>\n",
       "    <tr>\n",
       "      <th>26_46</th>\n",
       "      <td>16.573876</td>\n",
       "      <td>0.740817</td>\n",
       "      <td>16.137563</td>\n",
       "      <td>1.251457</td>\n",
       "    </tr>\n",
       "    <tr>\n",
       "      <th>28_45</th>\n",
       "      <td>9.717440</td>\n",
       "      <td>0.538373</td>\n",
       "      <td>11.249257</td>\n",
       "      <td>0.967244</td>\n",
       "    </tr>\n",
       "  </tbody>\n",
       "</table>\n",
       "</div>"
      ],
      "text/plain": [
       "         in_mean    in_std   out_mean   out_std\n",
       "17_24   2.740827  0.131068  14.146603  2.188693\n",
       "20_49  26.400868  2.131793  30.650660  1.417065\n",
       "22_48  22.677562  1.018469  23.935321  1.138413\n",
       "24_47  17.391289  0.663375  21.340958  0.958528\n",
       "26_46  16.573876  0.740817  16.137563  1.251457\n",
       "28_45   9.717440  0.538373  11.249257  0.967244"
      ]
     },
     "execution_count": 60,
     "metadata": {},
     "output_type": "execute_result"
    }
   ],
   "source": [
    "salt_bridge_statistics = []\n",
    "for critical_distance in critical_distances:\n",
    "    row = []\n",
    "    row.append(distances_df[distances_df[\"17_24\"] <= 3][critical_distance].mean())\n",
    "    row.append(distances_df[distances_df[\"17_24\"] <= 3][critical_distance].std())\n",
    "    row.append(distances_df[distances_df[\"17_24\"] > 10][critical_distance].mean())\n",
    "    row.append(distances_df[distances_df[\"17_24\"] > 10][critical_distance].std())\n",
    "    salt_bridge_statistics.append(row)\n",
    "salt_bridge_statistics = salt_bridge_statistics = pd.DataFrame(salt_bridge_statistics)\n",
    "salt_bridge_statistics.columns = [\"in_mean\", \"in_std\", \"out_mean\", \"out_std\"]\n",
    "salt_bridge_statistics.index = critical_distances\n",
    "salt_bridge_statistics"
   ]
  }
 ],
 "metadata": {
  "kernelspec": {
   "display_name": "Python 3",
   "language": "python",
   "name": "python3"
  },
  "language_info": {
   "codemirror_mode": {
    "name": "ipython",
    "version": 3
   },
   "file_extension": ".py",
   "mimetype": "text/x-python",
   "name": "python",
   "nbconvert_exporter": "python",
   "pygments_lexer": "ipython3",
   "version": "3.7.8"
  }
 },
 "nbformat": 4,
 "nbformat_minor": 4
}
